{
 "cells": [
  {
   "cell_type": "code",
   "execution_count": 8,
   "metadata": {
    "ExecuteTime": {
     "end_time": "2017-11-15T22:40:24.004324Z",
     "start_time": "2017-11-15T22:40:23.995649Z"
    }
   },
   "outputs": [],
   "source": [
    "import pickle\n",
    "import pandas as pd\n",
    "import numpy as np\n",
    "\n",
    "from sklearn.feature_extraction.text import CountVectorizer, TfidfVectorizer\n",
    "from sklearn.neighbors import NearestNeighbors\n",
    "\n",
    "path = '/Volumes/ext200/Dropbox/metis/p4_fletcher/pick/'"
   ]
  },
  {
   "cell_type": "code",
   "execution_count": 26,
   "metadata": {
    "ExecuteTime": {
     "end_time": "2017-11-15T22:45:48.036015Z",
     "start_time": "2017-11-15T22:45:47.300854Z"
    }
   },
   "outputs": [
    {
     "name": "stderr",
     "output_type": "stream",
     "text": [
      "/anaconda/lib/python3.5/site-packages/sklearn/base.py:311: UserWarning: Trying to unpickle estimator LatentDirichletAllocation from version 0.19.0 when using version 0.19.1. This might lead to breaking code or invalid results. Use at your own risk.\n",
      "  UserWarning)\n",
      "/anaconda/lib/python3.5/site-packages/sklearn/base.py:311: UserWarning: Trying to unpickle estimator CountVectorizer from version 0.19.0 when using version 0.19.1. This might lead to breaking code or invalid results. Use at your own risk.\n",
      "  UserWarning)\n"
     ]
    }
   ],
   "source": [
    "with open(path + 'ted_all.pkl', 'rb') as picklefile:\n",
    "    ted_all = pickle.load(picklefile)\n",
    "\n",
    "with open(path + 'cleaned_talks.pkl', 'rb') as picklefile:\n",
    "    cleaned_talks = pickle.load(picklefile)\n",
    "\n",
    "with open(path + 'topic_names.pkl', 'rb') as picklefile:\n",
    "    topic_names = pickle.load(picklefile)\n",
    "\n",
    "with open(path + 'lda_mod.pkl', 'rb') as picklefile:\n",
    "    lda_mod = pickle.load(picklefile)\n",
    "\n",
    "with open(path + 'vect_mod.pkl', 'rb') as picklefile:\n",
    "    vect_mod = pickle.load(picklefile)\n",
    "\n",
    "with open(path + 'lda_data.pkl', 'rb') as picklefile:\n",
    "    lda_data = pickle.load(picklefile)\n"
   ]
  },
  {
   "cell_type": "markdown",
   "metadata": {
    "ExecuteTime": {
     "end_time": "2017-11-05T20:54:48.896291Z",
     "start_time": "2017-11-05T20:54:48.892904Z"
    }
   },
   "source": [
    "# recommender \n",
    "enter any single talk (by ID) and get 5 recommendations. \n",
    "print the ID, distance from target talk, topic name, url,and the tags that ted assigned to the talk, to see how good we are?  "
   ]
  },
  {
   "cell_type": "code",
   "execution_count": 54,
   "metadata": {
    "ExecuteTime": {
     "end_time": "2017-11-15T22:56:39.216577Z",
     "start_time": "2017-11-15T22:56:39.167549Z"
    }
   },
   "outputs": [],
   "source": [
    "def get_recommendations(first_article,num_of_recs,topics,ted_data, model, vectorizer, training_vectors):\n",
    "    \n",
    "    new_vec = model.transform(\n",
    "        vectorizer.transform([first_article]))\n",
    "    \n",
    "    nn = NearestNeighbors(n_neighbors=num_of_recs, metric='cosine', algorithm='brute')\n",
    "    nn.fit(training_vectors)\n",
    "    \n",
    "    results = nn.kneighbors(new_vec)\n",
    "    \n",
    "    recommend_list = results[1][0]\n",
    "    scores = results[0]\n",
    "                       \n",
    "    ss = np.array(scores).flat\n",
    "    for i, resp in enumerate(recommend_list):\n",
    "        print('\\n--- ID ---\\n', + resp)\n",
    "        print('--- distance ---\\n', + ss[i])  \n",
    "        print('--- topic ---')\n",
    "        print(topics.iloc[resp,0])\n",
    "        print(ted_data.iloc[resp,1])\n",
    "        print('--- teds tags ---')\n",
    "        print(ted_data.iloc[resp,-3])\n",
    "        \n",
    "    return recommend_list, ss   "
   ]
  },
  {
   "cell_type": "code",
   "execution_count": 55,
   "metadata": {
    "ExecuteTime": {
     "end_time": "2017-11-15T22:56:40.462358Z",
     "start_time": "2017-11-15T22:56:40.127884Z"
    }
   },
   "outputs": [
    {
     "name": "stdout",
     "output_type": "stream",
     "text": [
      "\n",
      "--- ID ---\n",
      " 804\n",
      "--- distance ---\n",
      " 0.0\n",
      "--- topic ---\n",
      "neuroscience\n",
      "https://www.ted.com/talks/charles_limb_your_brain_on_improv\n",
      "\n",
      "--- teds tags ---\n",
      "['TEDx', 'brain', 'creativity', 'entertainment', 'music', 'science', 'technology']\n",
      "\n",
      "--- ID ---\n",
      " 1030\n",
      "--- distance ---\n",
      " 0.0161940478969\n",
      "--- topic ---\n",
      "neuroscience\n",
      "https://www.ted.com/talks/charles_limb_building_the_musical_muscle\n",
      "\n",
      "--- teds tags ---\n",
      "['Senses', 'art', 'beauty', 'disability', 'hearing', 'medical research', 'music', 'science', 'science and art', 'sound', 'technology']\n",
      "\n",
      "--- ID ---\n",
      " 2387\n",
      "--- distance ---\n",
      " 0.0166064910905\n",
      "--- topic ---\n",
      "neuroscience\n",
      "https://www.ted.com/talks/mehdi_ordikhani_seyedlar_what_happens_in_your_brain_when_you_pay_attention\n",
      "\n",
      "--- teds tags ---\n",
      "['AI', 'algorithm', 'brain', 'cognitive science', 'machine learning', 'mental health', 'neuroscience', 'technology']\n",
      "\n",
      "--- ID ---\n",
      " 841\n",
      "--- distance ---\n",
      " 0.0177802982226\n",
      "--- topic ---\n",
      "neuroscience\n",
      "https://www.ted.com/talks/ahn_trio_a_modern_take_on_piano_violin_cello\n",
      "\n",
      "--- teds tags ---\n",
      "['entertainment', 'live music', 'music', 'performance']\n",
      "\n",
      "--- ID ---\n",
      " 1752\n",
      "--- distance ---\n",
      " 0.0186078579582\n",
      "--- topic ---\n",
      "neuroscience\n",
      "https://www.ted.com/talks/nancy_kanwisher_the_brain_is_a_swiss_army_knife\n",
      "\n",
      "--- teds tags ---\n",
      "['brain', 'neuroscience', 'visualizations']\n",
      "\n",
      "--- ID ---\n",
      " 2122\n",
      "--- distance ---\n",
      " 0.0261570128656\n",
      "--- topic ---\n",
      "neuroscience\n",
      "https://www.ted.com/talks/uri_hasson_this_is_your_brain_on_communication\n",
      "\n",
      "--- teds tags ---\n",
      "['brain', 'cognitive science', 'collaboration', 'communication', 'language', 'mind', 'neuroscience', 'science', 'speech']\n",
      "\n",
      "--- ID ---\n",
      " 741\n",
      "--- distance ---\n",
      " 0.0278473452191\n",
      "--- topic ---\n",
      "neuroscience\n",
      "https://www.ted.com/talks/julian_treasure_shh_sound_health_in_8_steps\n",
      "\n",
      "--- teds tags ---\n",
      "['Senses', 'design', 'music', 'nature', 'psychology', 'science', 'sound']\n",
      "\n",
      "--- ID ---\n",
      " 570\n",
      "--- distance ---\n",
      " 0.0333844807433\n",
      "--- topic ---\n",
      "neuroscience\n",
      "https://www.ted.com/talks/vs_ramachandran_the_neurons_that_shaped_civilization\n",
      "\n",
      "--- teds tags ---\n",
      "['biology', 'brain', 'cities', 'cognitive science', 'evolution', 'neuroscience', 'science']\n",
      "\n",
      "--- ID ---\n",
      " 1401\n",
      "--- distance ---\n",
      " 0.0428313527817\n",
      "--- topic ---\n",
      "neuroscience\n",
      "https://www.ted.com/talks/andres_lozano_parkinson_s_depression_and_the_switch_that_might_turn_them_off\n",
      "\n",
      "--- teds tags ---\n",
      "['TEDx', 'brain', 'depression', 'health care', 'mental health', 'neuroscience']\n",
      "\n",
      "--- ID ---\n",
      " 212\n",
      "--- distance ---\n",
      " 0.0457885015696\n",
      "--- topic ---\n",
      "neuroscience\n",
      "https://www.ted.com/talks/tod_machover_and_dan_ellsey_play_new_music\n",
      "\n",
      "--- teds tags ---\n",
      "['creativity', 'demo', 'design', 'entertainment', 'health care', 'live music', 'music', 'technology', 'writing']\n"
     ]
    }
   ],
   "source": [
    "rec_list, scores = get_recommendations(cleaned_talks[804],10, topic_names, ted_all,\n",
    "                                       lda_mod, vect_mod, lda_data)"
   ]
  },
  {
   "cell_type": "code",
   "execution_count": null,
   "metadata": {},
   "outputs": [],
   "source": []
  }
 ],
 "metadata": {
  "kernelspec": {
   "display_name": "Python 3",
   "language": "python",
   "name": "python3"
  },
  "language_info": {
   "codemirror_mode": {
    "name": "ipython",
    "version": 3
   },
   "file_extension": ".py",
   "mimetype": "text/x-python",
   "name": "python",
   "nbconvert_exporter": "python",
   "pygments_lexer": "ipython3",
   "version": "3.5.4"
  },
  "varInspector": {
   "cols": {
    "lenName": 16,
    "lenType": 16,
    "lenVar": 40
   },
   "kernels_config": {
    "python": {
     "delete_cmd_postfix": "",
     "delete_cmd_prefix": "del ",
     "library": "var_list.py",
     "varRefreshCmd": "print(var_dic_list())"
    },
    "r": {
     "delete_cmd_postfix": ") ",
     "delete_cmd_prefix": "rm(",
     "library": "var_list.r",
     "varRefreshCmd": "cat(var_dic_list()) "
    }
   },
   "types_to_exclude": [
    "module",
    "function",
    "builtin_function_or_method",
    "instance",
    "_Feature"
   ],
   "window_display": false
  }
 },
 "nbformat": 4,
 "nbformat_minor": 2
}
